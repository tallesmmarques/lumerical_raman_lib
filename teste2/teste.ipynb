{
 "cells": [
  {
   "cell_type": "code",
   "execution_count": 1,
   "metadata": {},
   "outputs": [],
   "source": [
    "import sys\n",
    "import os\n",
    "\n",
    "os.chdir('D:\\\\TallesArquivos\\\\Documents\\\\FotonicaArquivos\\\\raman\\\\teste2')\n",
    "sys.path.append('../')\n",
    "\n",
    "from lumerical_lib import crystal\n",
    "from lumerical_lib import fdtd"
   ]
  },
  {
   "cell_type": "code",
   "execution_count": 2,
   "metadata": {},
   "outputs": [
    {
     "name": "stdout",
     "output_type": "stream",
     "text": [
      "[log] Modelo atualizado com base no arquivo sec1_crystal_model.txt\n",
      "[log] Modelo atualizado com base no arquivo sec2_crystal_model.txt\n"
     ]
    }
   ],
   "source": [
    "sec1 = crystal.Crystal('sec1')\n",
    "sec2 = crystal.Crystal('sec2')"
   ]
  },
  {
   "cell_type": "code",
   "execution_count": 3,
   "metadata": {},
   "outputs": [],
   "source": [
    "# for rindex, row in enumerate(sec1.generate_matrix()):\n",
    "#   for cindex, simbol in enumerate(row):\n",
    "#     print(simbol, rindex, cindex)\n",
    "# sec2.generate_crystal_file(30, 26)"
   ]
  },
  {
   "cell_type": "code",
   "execution_count": 4,
   "metadata": {},
   "outputs": [],
   "source": [
    "f = fdtd.Fdtd(new=True)"
   ]
  },
  {
   "cell_type": "code",
   "execution_count": 5,
   "metadata": {},
   "outputs": [],
   "source": [
    "f.last_crystal_x = 0\n",
    "f.add_crystal(sec1)\n",
    "f.add_crystal(sec2)\n",
    "\n",
    "f.add_base()\n",
    "f.add_sources()\n",
    "f.add_monitors()\n",
    "f.add_analysis(movie=True)"
   ]
  }
 ],
 "metadata": {
  "kernelspec": {
   "display_name": "Python 3",
   "language": "python",
   "name": "python3"
  },
  "language_info": {
   "codemirror_mode": {
    "name": "ipython",
    "version": 3
   },
   "file_extension": ".py",
   "mimetype": "text/x-python",
   "name": "python",
   "nbconvert_exporter": "python",
   "pygments_lexer": "ipython3",
   "version": "3.9.0"
  },
  "orig_nbformat": 4
 },
 "nbformat": 4,
 "nbformat_minor": 2
}
